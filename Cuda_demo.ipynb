{
 "cells": [
  {
   "cell_type": "code",
   "execution_count": null,
   "metadata": {},
   "outputs": [],
   "source": [
    "# $ conda install -c conda-forge ipyvolume\n",
    "import ewald_summation as es\n",
    "import matplotlib.pyplot as plt\n",
    "import numpy as np\n",
    "import ipyvolume as ipv"
   ]
  },
  {
   "cell_type": "code",
   "execution_count": null,
   "metadata": {},
   "outputs": [],
   "source": [
    "def initializer(n_particles, n_dim):\n",
    "    masses = np.array([39.948] * n_particles)\n",
    "    q_0 = np.arange(n_particles * n_dim).reshape(n_particles, n_dim)\n",
    "    v_0 = np.zeros((n_particles, n_dim))\n",
    "    particle_types = [0] * n_particles\n",
    "    lj_mixing_conditions = tuple([(3.405, 3.405**6, 0.238)])\n",
    "    n_particles_tpyes = 1\n",
    "    return q_0, v_0 * masses[:, None], masses, particle_types, lj_mixing_conditions, n_particles_tpyes\n",
    "\n",
    "def random_initializer(n_particles, n_dim):\n",
    "    masses = np.array([39.948] * n_particles)\n",
    "    q_0 = np.random.random((n_particles, n_dim)) * 20\n",
    "    v_0 = np.zeros((n_particles, n_dim))\n",
    "    particle_types = [0] * n_particles\n",
    "    lj_mixing_conditions = tuple([(3.405, 3.405**6, 0.238)])\n",
    "    n_particles_tpyes = 1\n",
    "    return q_0, v_0 * masses[:, None], masses, particle_types, lj_mixing_conditions, n_particles_tpyes\n",
    "\n",
    "cutoff = 3.405 * 3.5\n",
    "damping = 0.01\n",
    "n_steps = 15000\n",
    "n_particles = 1000\n",
    "n_dim = 3"
   ]
  },
  {
   "cell_type": "code",
   "execution_count": null,
   "metadata": {},
   "outputs": [],
   "source": [
    "q_cuda, p_cuda = es.potentials.lagevin_harmonic_lj_cuda(*initializer(n_particles, n_dim),\n",
    "                                                        n_steps, cutoff, time_step=0.001, damping=damping)"
   ]
  },
  {
   "cell_type": "code",
   "execution_count": null,
   "metadata": {},
   "outputs": [],
   "source": [
    "ipv.figure()\n",
    "s = ipv.scatter(q_cuda[:, :, 0], q_cuda[:, :, 1], q_cuda[:, :, 2], marker='sphere', size=10)\n",
    "ipv.xyzlim(-10, 10)\n",
    "ipv.animation_control(s) # shows controls for animation controls\n",
    "ipv.show()"
   ]
  },
  {
   "cell_type": "code",
   "execution_count": null,
   "metadata": {},
   "outputs": [],
   "source": [
    "n_particles = 1000\n",
    "n_steps = 50000\n",
    "q_cuda, p_cuda = es.potentials.lagevin_harmonic_lj_cuda(*random_initializer(n_particles, n_dim),\n",
    "                                                        n_steps, cutoff, damping=damping, time_step=0.001)\n"
   ]
  },
  {
   "cell_type": "code",
   "execution_count": null,
   "metadata": {},
   "outputs": [],
   "source": [
    "ipv.figure()\n",
    "s = ipv.scatter(q_cuda[:, :, 0], q_cuda[:, :, 1], q_cuda[:, :, 2], marker='sphere', size=10)\n",
    "ipv.xyzlim(0, 20)\n",
    "ipv.animation_control(s) # shows controls for animation controls\n",
    "ipv.show()"
   ]
  },
  {
   "cell_type": "code",
   "execution_count": null,
   "metadata": {},
   "outputs": [],
   "source": [
    "def _grid(ns):\n",
    "    xx = np.meshgrid(*[np.arange(0, n) for n in ns])\n",
    "    X = np.vstack([v.reshape(-1) for v in xx]).T\n",
    "    return X\n",
    "\n",
    "def intializer_NaCl(n):\n",
    "    n_particles = n * n * n\n",
    "    n_dim = 3\n",
    "    l_box = 4. * np.array([n, n, n])\n",
    "    grid=_grid([n, n, n])\n",
    "    q_0 = 4. * grid\n",
    "    p_0 = np.zeros((n_particles, n_dim))\n",
    "    particle_info = grid.sum(axis=1)%2\n",
    "    mixing_conditions = tuple([(2.35, 2.35**6, 0.130, 1),\n",
    "                               (0.5 * (2.35 + 4.4), (0.5 * (2.35 + 4.4))**6, 0.13, -1),\n",
    "                               (0.5 * (2.35 + 4.4), (0.5 * (2.35 + 4.4))**6, -1),\n",
    "                               (4.40, 4.40**6, 0.1, 1),\n",
    "                              ])\n",
    "    masses = [22.990, 35.453] * int(n_particles / 2)\n",
    "    charges = [1, -1] * int(n_particles / 2)\n",
    "    return q_0, p_0, np.array(masses), np.array(charges), particle_info, mixing_conditions, np.array(l_box)\n",
    "cutoff_lj = 4.40 * 3.5"
   ]
  },
  {
   "cell_type": "code",
   "execution_count": null,
   "metadata": {},
   "outputs": [],
   "source": [
    "n_steps = 1000\n",
    "\n",
    "q_cuda, p_cuda = es.potentials.lagevin_coulomb_lj_cuda(*intializer_NaCl(12), n_steps, cutoff_lj, accuracy=1e-8, damping=0.1, \n",
    "                        time_step=0.001, temp=150, k_B=0.00198720360, k_C=332.0637128,)"
   ]
  },
  {
   "cell_type": "code",
   "execution_count": null,
   "metadata": {},
   "outputs": [],
   "source": [
    "# right now its neither fast nor does it look sensible =(\n",
    "\n",
    "q_cuda_mod = q_cuda % 48\n",
    "ipv.figure()\n",
    "s = ipv.scatter(q_cuda_mod[:, :, 0], q_cuda_mod[:, :, 1], q_cuda_mod[:, :, 2], marker='sphere', size=10)\n",
    "ipv.xyzlim(0, 48)\n",
    "ipv.animation_control(s) # shows controls for animation controls\n",
    "ipv.show()"
   ]
  },
  {
   "cell_type": "code",
   "execution_count": null,
   "metadata": {},
   "outputs": [],
   "source": []
  }
 ],
 "metadata": {
  "kernelspec": {
   "display_name": "Python 3",
   "language": "python",
   "name": "python3"
  },
  "language_info": {
   "codemirror_mode": {
    "name": "ipython",
    "version": 3
   },
   "file_extension": ".py",
   "mimetype": "text/x-python",
   "name": "python",
   "nbconvert_exporter": "python",
   "pygments_lexer": "ipython3",
   "version": "3.7.2"
  }
 },
 "nbformat": 4,
 "nbformat_minor": 2
}

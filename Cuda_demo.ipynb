{
 "cells": [
  {
   "cell_type": "code",
   "execution_count": 21,
   "metadata": {},
   "outputs": [],
   "source": [
    "# $ conda install -c conda-forge ipyvolume\n",
    "import ewald_summation as es\n",
    "import matplotlib.pyplot as plt\n",
    "import numpy as np\n",
    "import ipyvolume as ipv"
   ]
  },
  {
   "cell_type": "code",
   "execution_count": 17,
   "metadata": {},
   "outputs": [],
   "source": [
    "def initializer(n_particles, n_dim):\n",
    "    masses = np.array([39.948] * n_particles)\n",
    "    q_0 = np.arange(n_particles * n_dim).reshape(n_particles, n_dim)\n",
    "    v_0 = np.zeros((n_particles, n_dim))\n",
    "    particle_types = [0] * n_particles\n",
    "    lj_mixing_conditions = tuple([(3.405, 3.405**6, 0.238)])\n",
    "    n_particles_tpyes = 1\n",
    "    return q_0, v_0 * masses[:, None], masses, particle_types, lj_mixing_conditions, n_particles_tpyes\n",
    "\n",
    "def random_initializer(n_particles, n_dim):\n",
    "    masses = np.array([39.948] * n_particles)\n",
    "    q_0 = np.random.random((n_particles, n_dim)) * 20\n",
    "    v_0 = np.zeros((n_particles, n_dim))\n",
    "    particle_types = [0] * n_particles\n",
    "    lj_mixing_conditions = tuple([(3.405, 3.405**6, 0.238)])\n",
    "    n_particles_tpyes = 1\n",
    "    return q_0, v_0 * masses[:, None], masses, particle_types, lj_mixing_conditions, n_particles_tpyes\n",
    "\n",
    "cutoff = 3.405 * 3.5\n",
    "damping = 0.01\n",
    "n_steps = 10000\n",
    "n_particles = 1000\n",
    "n_dim = 3"
   ]
  },
  {
   "cell_type": "code",
   "execution_count": 15,
   "metadata": {},
   "outputs": [],
   "source": [
    "q_cuda, p_cuda = es.potentials.lagevin_harmonic_lj_cuda(*initializer(n_particles, n_dim),\n",
    "                                                        n_steps, cutoff, time_step=0.001, damping=damping)"
   ]
  },
  {
   "cell_type": "code",
   "execution_count": 16,
   "metadata": {},
   "outputs": [
    {
     "data": {
      "application/vnd.jupyter.widget-view+json": {
       "model_id": "d82734c902f04dd38ea97720692aac26",
       "version_major": 2,
       "version_minor": 0
      },
      "text/plain": [
       "VBox(children=(Figure(animation=200.0, camera=PerspectiveCamera(fov=46.0, position=(0.0, 0.0, 2.0), quaternion…"
      ]
     },
     "metadata": {},
     "output_type": "display_data"
    }
   ],
   "source": [
    "ipv.figure()\n",
    "s = ipv.scatter(q_cuda[:, :, 0], q_cuda[:, :, 1], q_cuda[:, :, 2], marker='sphere', size=10)\n",
    "ipv.xyzlim(-10, 10)\n",
    "ipv.animation_control(s) # shows controls for animation controls\n",
    "ipv.show()"
   ]
  },
  {
   "cell_type": "code",
   "execution_count": 25,
   "metadata": {},
   "outputs": [],
   "source": [
    "n_particles = 1000\n",
    "n_steps = 50000\n",
    "q_cuda, p_cuda = es.potentials.lagevin_harmonic_lj_cuda(*random_initializer(n_particles, n_dim),\n",
    "                                                        n_steps, cutoff, damping=damping, time_step=0.001)\n"
   ]
  },
  {
   "cell_type": "code",
   "execution_count": 26,
   "metadata": {},
   "outputs": [
    {
     "data": {
      "application/vnd.jupyter.widget-view+json": {
       "model_id": "01fefb6e674a4faca9ddd60755e209bd",
       "version_major": 2,
       "version_minor": 0
      },
      "text/plain": [
       "VBox(children=(Figure(animation=200.0, camera=PerspectiveCamera(fov=46.0, position=(0.0, 0.0, 2.0), quaternion…"
      ]
     },
     "metadata": {},
     "output_type": "display_data"
    }
   ],
   "source": [
    "ipv.figure()\n",
    "s = ipv.scatter(q_cuda[:, :, 0], q_cuda[:, :, 1], q_cuda[:, :, 2], marker='sphere', size=10)\n",
    "ipv.xyzlim(0, 20)\n",
    "ipv.animation_control(s) # shows controls for animation controls\n",
    "ipv.show()"
   ]
  },
  {
   "cell_type": "code",
   "execution_count": null,
   "metadata": {},
   "outputs": [],
   "source": []
  }
 ],
 "metadata": {
  "kernelspec": {
   "display_name": "Python 3",
   "language": "python",
   "name": "python3"
  },
  "language_info": {
   "codemirror_mode": {
    "name": "ipython",
    "version": 3
   },
   "file_extension": ".py",
   "mimetype": "text/x-python",
   "name": "python",
   "nbconvert_exporter": "python",
   "pygments_lexer": "ipython3",
   "version": "3.7.2"
  }
 },
 "nbformat": 4,
 "nbformat_minor": 2
}

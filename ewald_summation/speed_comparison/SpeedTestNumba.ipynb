{
 "cells": [
  {
   "cell_type": "code",
   "execution_count": 3,
   "metadata": {},
   "outputs": [],
   "source": [
    "from numba import vectorize, cuda, njit, jit\n",
    "import numpy as np\n",
    "import math"
   ]
  },
  {
   "cell_type": "code",
   "execution_count": 13,
   "metadata": {},
   "outputs": [],
   "source": [
    "N_particles = 800\n",
    "N_run = 50\n",
    "configuration = np.random.uniform(0, 4, (N_particles, 3))\n",
    "sigma = np.array([1] * N_particles).astype(np.float64)\n",
    "sigma_arr = 0.5 * (sigma[:, None] + sigma)\n",
    "sigma_arr_6 = sigma_arr**6\n",
    "sigma_arr_12 = sigma_arr**12\n",
    "epsilon = np.array([1] * N_particles).astype(np.float64)\n",
    "epsilon_arr = np.sqrt(epsilon[:, None] * epsilon)\n",
    "cutoff_lj = 3.5\n",
    "switch_width_lj = 1\n",
    "switch_start_lj = 2.5"
   ]
  },
  {
   "cell_type": "markdown",
   "metadata": {},
   "source": [
    "# Numpy as comparison  \n",
    "I tried just doing calculations on upper triangualar matrix but was not faster.\n",
    "It's kind of a mess because i first put force calc into the func aswell."
   ]
  },
  {
   "cell_type": "code",
   "execution_count": null,
   "metadata": {},
   "outputs": [],
   "source": [
    "def lj_numpy(configuration):\n",
    "    #define potential\n",
    "    def lj_pot(distances, mask1):\n",
    "        output = (4 * epsilon_arr[mask1] * sigma_arr[mask1]**6 / distances**6\n",
    "               * (sigma_arr[mask1]**6 / distances**6 - 1))\n",
    "        return output\n",
    "\n",
    "    # define switchfunction S1\n",
    "    def switch_S1(distances):\n",
    "        output = 2 * (distances - cutoff_lj) / switch_width_lj**3 + 3 * (distances - cutoff_lj) / switch_width_lj**2\n",
    "        return output\n",
    "    \n",
    "#     # define part of the force depending only on distance\n",
    "#     def lj_force_d_part(distances, mask):\n",
    "#         output = (24 * epsilon_arr[mask] * sigma_arr[mask]**6 / distances**8 \n",
    "#                   * (2 * sigma_arr[mask]**6 / distances**6 - 1))\n",
    "#         return output\n",
    "\n",
    "#     # define differential of switchfunction S1\n",
    "#     def dswitch_S1__mult_pot(distances, mask):\n",
    "#         output = (6 / (cutoff_lj * - switch_start_lj) / distances\n",
    "#                   * (((distances - cutoff_lj) / switch_width_lj)**2 + (distances - cutoff_lj) / switch_width_lj)\n",
    "#                   * lj_pot(distances, mask))\n",
    "#         return output\n",
    "\n",
    "    # calculate distance vectors and distances, init outputs\n",
    "    potential = np.linalg.norm(configuration[:, None, :] - configuration[None, :, :], axis=-1)\n",
    "#     distances = np.linalg.norm(distance_vectors, axis=-1)\n",
    "\n",
    "\n",
    "    # get mask for switching function and triangular matrices exluding diagonal\n",
    "    mask0 = (potential > 0) & (potential < switch_start_lj)\n",
    "    mask1 = (potential > switch_start_lj) & (potential < cutoff_lj)\n",
    "\n",
    "    # caculate potential\n",
    "    potential[mask0] = lj_pot(potential[mask0], mask0)\n",
    "    potential[mask1] = potential[mask1] * switch_S1(potential[mask1])\n",
    "    potential = np.sum(potential, axis=-1)\n",
    "    \n",
    "#     # calculate forces\n",
    "#     forces = np.empty_like(distance_vectors)\n",
    "#     forces[:, :, 0] = 0\n",
    "#     forces[:, :, 0][mask0] = lj_force_d_part(distances[mask0], mask0)\n",
    "#     forces[:, :, 0][mask1] *= switch_S1(distances[mask1])\n",
    "#     forces[:, :, 0][mask1] += dswitch_S1__mult_pot(distances[mask1], mask1)\n",
    "#     for i in range(1, 3):\n",
    "#         forces[:, :, i] = forces[:, :, 0]\n",
    "#     forces *= distance_vectors\n",
    "#     forces = np.sum(forces, axis=-1)\n",
    "    return potential"
   ]
  },
  {
   "cell_type": "code",
   "execution_count": null,
   "metadata": {},
   "outputs": [],
   "source": [
    "%%timeit\n",
    "for _ in range(N_run):\n",
    "    a = lj_numpy(configuration)"
   ]
  },
  {
   "cell_type": "markdown",
   "metadata": {},
   "source": [
    "# Running over every particle twice"
   ]
  },
  {
   "cell_type": "code",
   "execution_count": 28,
   "metadata": {},
   "outputs": [],
   "source": [
    "@njit(parallel=True)\n",
    "def lj_potential_pairwise(distance, sigma_lj, epsilon_lj):\n",
    "    # calculate potential between 0 and switch region\n",
    "    if(distance <= cutoff_lj - switch_width_lj) and (distance > 0):\n",
    "        phi = 4. * epsilon_lj * sigma_lj**6 / distance**6 * (sigma_lj**6 / distance**6 - 1)\n",
    "        return phi\n",
    "    \n",
    "    # calculate potential in switch region\n",
    "    elif (distance > cutoff_lj - switch_width_lj) and distance <= cutoff_lj:\n",
    "        phi =  (4. * epsilon_lj * sigma_lj**6 / distance**6 * (sigma_lj**6 / distance**6 - 1)\n",
    "                * (2 * ((distance - cutoff_lj) / switch_width_lj)**3 + 3 * ((distance - cutoff_lj) / switch_width_lj)**2))\n",
    "        return phi\n",
    "    \n",
    "    # set rest to 0\n",
    "    else:\n",
    "        return 0.\n",
    "        \n",
    "@njit\n",
    "def lj_potential_numba1(x):\n",
    "    potential_output = np.zeros(len(x))\n",
    "    for i in range(len(x)):\n",
    "        for j in range(len(x)):\n",
    "            sigma_lj = sigma_arr[i, j]\n",
    "            epsilon_lj = epsilon_arr[i, j]\n",
    "            distance_vector = x[i, :] - x[j, :]\n",
    "            distance = np.linalg.norm(distance_vector)\n",
    "            potential_output[i] += lj_potential_pairwise(distance, sigma_lj, epsilon_lj)\n",
    "    return potential_output"
   ]
  },
  {
   "cell_type": "code",
   "execution_count": null,
   "metadata": {},
   "outputs": [],
   "source": [
    "%%timeit\n",
    "for _ in range(N_run):\n",
    "    a = lj_potential_numba1(configuration)"
   ]
  },
  {
   "cell_type": "markdown",
   "metadata": {},
   "source": [
    "# Running over every particle once"
   ]
  },
  {
   "cell_type": "code",
   "execution_count": null,
   "metadata": {},
   "outputs": [],
   "source": [
    "@njit\n",
    "def lj_potential_numba(x, sigma_arr, epsilon_arr):\n",
    "    potential_output = np.zeros(len(x))\n",
    "    for i in range(len(x)):\n",
    "        for j in range(i, len(x)):\n",
    "            sigma_lj = sigma_arr[i, j]\n",
    "            epsilon_lj = epsilon_arr[i, j]\n",
    "            distance_vector = x[i, :] - x[j, :]\n",
    "            distance = np.linalg.norm(distance_vector)\n",
    "            pot = lj_potential_pairwise(distance, sigma_lj, epsilon_lj)\n",
    "            potential_output[i] += pot\n",
    "            potential_output[j] += pot\n",
    "    return potential_output"
   ]
  },
  {
   "cell_type": "code",
   "execution_count": null,
   "metadata": {},
   "outputs": [],
   "source": [
    "%%timeit\n",
    "for _ in range(N_run):\n",
    "    a = lj_potential_numba(configuration, sigma_arr, epsilon_arr)"
   ]
  },
  {
   "cell_type": "markdown",
   "metadata": {},
   "source": [
    "# No Precomputing sigma and epsilon"
   ]
  },
  {
   "cell_type": "code",
   "execution_count": null,
   "metadata": {},
   "outputs": [],
   "source": [
    "@njit\n",
    "def lj_potential_numba2(x):\n",
    "    potential_output = np.zeros(len(x))\n",
    "    for i in range(len(x)):\n",
    "        for j in range(i, len(x)):\n",
    "            sigma_lj = 0.5 * (sigma[i] + sigma[j]) \n",
    "            epsilon_lj = math.sqrt(epsilon[i] * epsilon[j])\n",
    "            distance_vector = x[i, :] - x[j, :]\n",
    "            distance = np.linalg.norm(distance_vector)\n",
    "            potential_output[i] += lj_potential_pairwise(distance, sigma_lj, epsilon_lj)\n",
    "            potential_output[j] += lj_potential_pairwise(distance, sigma_lj, epsilon_lj)\n",
    "    return potential_output"
   ]
  },
  {
   "cell_type": "code",
   "execution_count": null,
   "metadata": {},
   "outputs": [],
   "source": [
    "%%timeit\n",
    "for _ in range(N_run):\n",
    "    a = lj_potential_numba2(configuration)"
   ]
  },
  {
   "cell_type": "markdown",
   "metadata": {},
   "source": [
    "# Precomputing distances"
   ]
  },
  {
   "cell_type": "code",
   "execution_count": null,
   "metadata": {},
   "outputs": [],
   "source": [
    "def distances(x):\n",
    "    return x[:, None, :] - x[None, :, :]"
   ]
  },
  {
   "cell_type": "code",
   "execution_count": null,
   "metadata": {},
   "outputs": [],
   "source": [
    "%timeit distances(configuration)"
   ]
  },
  {
   "cell_type": "code",
   "execution_count": null,
   "metadata": {},
   "outputs": [],
   "source": [
    "@njit\n",
    "def distances_numba(x):\n",
    "    output = np.zeros((x.shape[0], x.shape[0]))\n",
    "    for i in range(len(x)):\n",
    "        for j in range(i, len(x)):\n",
    "            output[i, j] = np.linalg.norm(x[i, :] - x[j, :])"
   ]
  },
  {
   "cell_type": "code",
   "execution_count": null,
   "metadata": {},
   "outputs": [],
   "source": [
    "%timeit distances_numba(configuration)"
   ]
  },
  {
   "cell_type": "markdown",
   "metadata": {},
   "source": [
    "# Computing potential with distances precomputed"
   ]
  },
  {
   "cell_type": "code",
   "execution_count": 31,
   "metadata": {},
   "outputs": [],
   "source": [
    "@njit(parallel=True)\n",
    "def lj_potential_numba3(distances):\n",
    "    for i in range(len(distances)):\n",
    "        for j in range(i + 1, len(distances) - 1):\n",
    "            sigma_lj = 0.5 * (sigma[i] + sigma[j]) \n",
    "            epsilon_lj = math.sqrt(epsilon[i] * epsilon[j])\n",
    "            pot = lj_potential_pairwise(distances[i, j], sigma_lj, epsilon_lj)\n",
    "            distances[i, j] = pot\n",
    "            distances[i, j] = pot\n",
    "    return distances\n"
   ]
  },
  {
   "cell_type": "code",
   "execution_count": 32,
   "metadata": {},
   "outputs": [
    {
     "name": "stdout",
     "output_type": "stream",
     "text": [
      "1.23 s ± 1.46 ms per loop (mean ± std. dev. of 7 runs, 1 loop each)\n"
     ]
    }
   ],
   "source": [
    "%%timeit\n",
    "for _ in range(N_run):\n",
    "    distances = np.linalg.norm(configuration[:, None, :] - configuration[None, :, :], axis=-1)\n",
    "    a = lj_potential_numba3(distances)"
   ]
  },
  {
   "cell_type": "markdown",
   "metadata": {},
   "source": [
    "# Precomputed distances with numpy masking"
   ]
  },
  {
   "cell_type": "code",
   "execution_count": null,
   "metadata": {},
   "outputs": [],
   "source": [
    "@vectorize(['float64(float64, float64, float64)'], target='parallel')\n",
    "def pot_vectorize(distance, sigma_lj, epsilon_lj):\n",
    "    phi = 4. * epsilon_lj * sigma_lj**6 / distance**6 * (sigma_lj**6 / distance**6 - 1)\n",
    "    return phi\n",
    "\n",
    "\n",
    "@vectorize(['float64(float64, float64, float64)'], target='parallel')\n",
    "def pot_vectorize_switch(distance, sigma_lj, epsilon_lj):\n",
    "    phi = (4. * epsilon_lj * sigma_lj**6 / distance**6 * (sigma_lj**6 / distance**6 - 1)\n",
    "           * (2 * ((distance - cutoff_lj) / switch_width_lj)**3 + 3 * ((distance - cutoff_lj) / switch_width_lj)**2))\n",
    "    return phi\n",
    "\n",
    "@jit\n",
    "def lj_potential_numba_masking(configuration):\n",
    "    distances = np.linalg.norm(configuration[:, None, :] - configuration[None, :, :], axis=-1)\n",
    "    output = np.zeros(distances.shape)\n",
    "    mask_triu = np.triu_indices(len(configuration), 1)\n",
    "    mask_tril = np.tril_indices(len(configuration), -1)\n",
    "    output[mask_triu] = distances[mask_triu]\n",
    "    mask0 = (output < switch_start_lj) & (output > 0)\n",
    "    mask1 = (output > switch_start_lj) & (output < cutoff_lj) \n",
    "    output[mask0] = pot_vectorize(distances[mask0], sigma_arr[mask0], epsilon_arr[mask0])\n",
    "    output[mask1] = pot_vectorize_switch(distances[mask1], sigma_arr[mask1], epsilon_arr[mask1])\n",
    "    output[mask_tril] = output[mask_triu]\n",
    "    output = np.sum(output, axis=-1)\n",
    "    return output"
   ]
  },
  {
   "cell_type": "code",
   "execution_count": null,
   "metadata": {},
   "outputs": [],
   "source": [
    "%%timeit\n",
    "for _ in range(N_run):\n",
    "    a = lj_potential_numba_masking(configuration)"
   ]
  },
  {
   "cell_type": "code",
   "execution_count": null,
   "metadata": {},
   "outputs": [],
   "source": []
  },
  {
   "cell_type": "code",
   "execution_count": null,
   "metadata": {},
   "outputs": [],
   "source": []
  }
 ],
 "metadata": {
  "kernelspec": {
   "display_name": "Python 3",
   "language": "python",
   "name": "python3"
  },
  "language_info": {
   "codemirror_mode": {
    "name": "ipython",
    "version": 3
   },
   "file_extension": ".py",
   "mimetype": "text/x-python",
   "name": "python",
   "nbconvert_exporter": "python",
   "pygments_lexer": "ipython3",
   "version": "3.7.1"
  }
 },
 "nbformat": 4,
 "nbformat_minor": 2
}

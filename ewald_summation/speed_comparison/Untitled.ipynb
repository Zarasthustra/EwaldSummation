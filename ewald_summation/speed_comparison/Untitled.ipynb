{
 "cells": [
  {
   "cell_type": "code",
   "execution_count": 1,
   "metadata": {},
   "outputs": [],
   "source": [
    "import numpy as np\n",
    "from numba import njit"
   ]
  },
  {
   "cell_type": "code",
   "execution_count": 4,
   "metadata": {},
   "outputs": [],
   "source": [
    "    def distance_vectors_periodic(x,l_box):\n",
    "        # new implementation\n",
    "        distance_vectors = x[:, None, :] - x[None, :, :]\n",
    "        np.mod(distance_vectors, l_box, out=distance_vectors)\n",
    "        mask = distance_vectors > np.divide(self.l_box, 2.)\n",
    "        distance_vectors += mask * -l_box\n",
    "        return distance_vectors "
   ]
  },
  {
   "cell_type": "code",
   "execution_count": 5,
   "metadata": {},
   "outputs": [],
   "source": [
    "distances = np.random.rand(10000,3)"
   ]
  },
  {
   "cell_type": "code",
   "execution_count": 6,
   "metadata": {},
   "outputs": [],
   "source": [
    "def rad_dist_func_not_neighbour(distances):\n",
    "    hist = np.zeros(self.bin_res-1)\n",
    "    dist = distances[tril_vector]\n",
    "    hist, trash = np.histogram(dist, bins)\n",
    "    hist += hist"
   ]
  },
  {
   "cell_type": "code",
   "execution_count": null,
   "metadata": {},
   "outputs": [],
   "source": []
  }
 ],
 "metadata": {
  "kernelspec": {
   "display_name": "Python 3",
   "language": "python",
   "name": "python3"
  },
  "language_info": {
   "codemirror_mode": {
    "name": "ipython",
    "version": 3
   },
   "file_extension": ".py",
   "mimetype": "text/x-python",
   "name": "python",
   "nbconvert_exporter": "python",
   "pygments_lexer": "ipython3",
   "version": "3.7.1"
  }
 },
 "nbformat": 4,
 "nbformat_minor": 2
}

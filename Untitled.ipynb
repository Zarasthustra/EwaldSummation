{
 "cells": [
  {
   "cell_type": "code",
   "execution_count": 1,
   "metadata": {},
   "outputs": [
    {
     "name": "stdout",
     "output_type": "stream",
     "text": [
      "Threading layer chosen: omp\n"
     ]
    }
   ],
   "source": [
    "from numba import config, njit, threading_layer\n",
    "import numpy as np\n",
    "\n",
    "# set the threading layer before any parallel target compilation\n",
    "config.THREADING_LAYER = 'threadsafe'\n",
    "\n",
    "@njit(parallel=True)\n",
    "def foo(a, b):\n",
    "    return a + b\n",
    "\n",
    "x = np.arange(10.)\n",
    "y = x.copy()\n",
    "\n",
    "# this will force the compilation of the function, select a threading layer\n",
    "# and then execute in parallel\n",
    "foo(x, y)\n",
    "\n",
    "# demonstrate the threading layer chosen\n",
    "print(\"Threading layer chosen: %s\" % threading_layer())"
   ]
  },
  {
   "cell_type": "code",
   "execution_count": null,
   "metadata": {},
   "outputs": [],
   "source": []
  }
 ],
 "metadata": {
  "kernelspec": {
   "display_name": "Python 3",
   "language": "python",
   "name": "python3"
  },
  "language_info": {
   "codemirror_mode": {
    "name": "ipython",
    "version": 3
   },
   "file_extension": ".py",
   "mimetype": "text/x-python",
   "name": "python",
   "nbconvert_exporter": "python",
   "pygments_lexer": "ipython3",
   "version": "3.7.1"
  }
 },
 "nbformat": 4,
 "nbformat_minor": 2
}

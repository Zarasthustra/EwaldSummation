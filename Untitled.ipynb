{
 "cells": [
  {
   "cell_type": "code",
   "execution_count": 1,
   "metadata": {},
   "outputs": [],
   "source": [
    "# $ conda install -c conda-forge ipyvolume\n",
    "import numpy as np\n",
    "import ewald_summation as es\n",
    "import matplotlib.pyplot as plt\n",
    "import ipyvolume as ipv"
   ]
  },
  {
   "cell_type": "code",
   "execution_count": 4,
   "metadata": {},
   "outputs": [],
   "source": [
    "def random_initiliazer(box_size, n_particles):\n",
    "    n_dim = len(box_size)\n",
    "    q_0 = np.random.random((n_particles, n_dim)) * 8\n",
    "    v_0 = np.random.random((n_particles, n_dim)) * 10000\n",
    "    return q_0, v_0\n",
    "\n",
    "\n",
    "test_config = es.SimuConfig(l_box=(8., 8., 8.),\n",
    "                            PBC=True,\n",
    "                            particle_info=[0] * 40,\n",
    "                            n_steps=2000,\n",
    "                            timestep=0.00001,\n",
    "                            temp=30,\n",
    "                            )\n",
    "test_md = es.MD(test_config, random_initiliazer, es.step_runners.Langevin(damping=0.2))\n",
    "test_md.add_potential(es.potentials.LJ(test_config, switch_start=2.5, cutoff=3.5))\n",
    "test_md.run_all()\n",
    "\n",
    "\n",
    "qs = test_md.traj.get_qs() % 8."
   ]
  },
  {
   "cell_type": "code",
   "execution_count": 2,
   "metadata": {},
   "outputs": [
    {
     "ename": "NameError",
     "evalue": "name 'qs' is not defined",
     "output_type": "error",
     "traceback": [
      "\u001b[0;31m---------------------------------------------------------------------------\u001b[0m",
      "\u001b[0;31mNameError\u001b[0m                                 Traceback (most recent call last)",
      "\u001b[0;32m<ipython-input-2-05565b4377bf>\u001b[0m in \u001b[0;36m<module>\u001b[0;34m\u001b[0m\n\u001b[1;32m      1\u001b[0m \u001b[0mipv\u001b[0m\u001b[0;34m.\u001b[0m\u001b[0mfigure\u001b[0m\u001b[0;34m(\u001b[0m\u001b[0;34m)\u001b[0m\u001b[0;34m\u001b[0m\u001b[0;34m\u001b[0m\u001b[0m\n\u001b[0;32m----> 2\u001b[0;31m \u001b[0ms\u001b[0m \u001b[0;34m=\u001b[0m \u001b[0mipv\u001b[0m\u001b[0;34m.\u001b[0m\u001b[0mscatter\u001b[0m\u001b[0;34m(\u001b[0m\u001b[0mqs\u001b[0m\u001b[0;34m[\u001b[0m\u001b[0;34m:\u001b[0m\u001b[0;34m,\u001b[0m \u001b[0;34m:\u001b[0m\u001b[0;34m,\u001b[0m \u001b[0;36m0\u001b[0m\u001b[0;34m]\u001b[0m\u001b[0;34m,\u001b[0m \u001b[0mqs\u001b[0m\u001b[0;34m[\u001b[0m\u001b[0;34m:\u001b[0m\u001b[0;34m,\u001b[0m \u001b[0;34m:\u001b[0m\u001b[0;34m,\u001b[0m \u001b[0;36m1\u001b[0m\u001b[0;34m]\u001b[0m\u001b[0;34m,\u001b[0m \u001b[0mqs\u001b[0m\u001b[0;34m[\u001b[0m\u001b[0;34m:\u001b[0m\u001b[0;34m,\u001b[0m \u001b[0;34m:\u001b[0m\u001b[0;34m,\u001b[0m \u001b[0;36m2\u001b[0m\u001b[0;34m]\u001b[0m\u001b[0;34m,\u001b[0m \u001b[0mmarker\u001b[0m\u001b[0;34m=\u001b[0m\u001b[0;34m'sphere'\u001b[0m\u001b[0;34m,\u001b[0m \u001b[0msize\u001b[0m\u001b[0;34m=\u001b[0m\u001b[0;36m10\u001b[0m\u001b[0;34m)\u001b[0m\u001b[0;34m\u001b[0m\u001b[0;34m\u001b[0m\u001b[0m\n\u001b[0m\u001b[1;32m      3\u001b[0m \u001b[0mipv\u001b[0m\u001b[0;34m.\u001b[0m\u001b[0mxyzlim\u001b[0m\u001b[0;34m(\u001b[0m\u001b[0;36m0\u001b[0m\u001b[0;34m,\u001b[0m \u001b[0;36m8\u001b[0m\u001b[0;34m)\u001b[0m\u001b[0;34m\u001b[0m\u001b[0;34m\u001b[0m\u001b[0m\n\u001b[1;32m      4\u001b[0m \u001b[0mipv\u001b[0m\u001b[0;34m.\u001b[0m\u001b[0manimation_control\u001b[0m\u001b[0;34m(\u001b[0m\u001b[0ms\u001b[0m\u001b[0;34m)\u001b[0m \u001b[0;31m# shows controls for animation controls\u001b[0m\u001b[0;34m\u001b[0m\u001b[0;34m\u001b[0m\u001b[0m\n\u001b[1;32m      5\u001b[0m \u001b[0mipv\u001b[0m\u001b[0;34m.\u001b[0m\u001b[0mshow\u001b[0m\u001b[0;34m(\u001b[0m\u001b[0;34m)\u001b[0m\u001b[0;34m\u001b[0m\u001b[0;34m\u001b[0m\u001b[0m\n",
      "\u001b[0;31mNameError\u001b[0m: name 'qs' is not defined"
     ]
    }
   ],
   "source": [
    "ipv.figure()\n",
    "s = ipv.scatter(qs[:, :, 0], qs[:, :, 1], qs[:, :, 2], marker='sphere', size=10)\n",
    "ipv.xyzlim(0, 8)\n",
    "ipv.animation_control(s) # shows controls for animation controls\n",
    "ipv.show()"
   ]
  },
  {
   "cell_type": "code",
   "execution_count": 5,
   "metadata": {},
   "outputs": [],
   "source": [
    "test_config = es.SimuConfig(l_box=(8., 8., 8.),\n",
    "                            PBC=True,\n",
    "                            particle_info=[0] * 40,\n",
    "                            n_steps=2000,\n",
    "                            timestep=0.00001,\n",
    "                            temp=30,\n",
    "                            )\n",
    "    \n",
    "test_md = es.MD(test_config, random_initiliazer, es.step_runners.GradientDescent(0.01))\n",
    "test_md.add_potential(es.potentials.LJ(test_config, switch_start=2.5, cutoff=3.5))\n",
    "test_md.run_all()\n",
    "qs = test_md.traj.get_qs() % 8"
   ]
  },
  {
   "cell_type": "code",
   "execution_count": 6,
   "metadata": {},
   "outputs": [
    {
     "data": {
      "application/vnd.jupyter.widget-view+json": {
       "model_id": "e6fc7eaf299c48449668effec4697a72",
       "version_major": 2,
       "version_minor": 0
      },
      "text/plain": [
       "VBox(children=(Figure(animation=200.0, camera=PerspectiveCamera(fov=46.0, position=(0.0, 0.0, 2.0), quaternion…"
      ]
     },
     "metadata": {},
     "output_type": "display_data"
    }
   ],
   "source": [
    "ipv.figure()\n",
    "s = ipv.scatter(qs[:, :, 0], qs[:, :, 1], qs[:, :, 2], marker='sphere', size=10)\n",
    "ipv.xyzlim(0, 8)\n",
    "ipv.animation_control(s) # shows controls for animation controls\n",
    "ipv.show()"
   ]
  },
  {
   "cell_type": "code",
   "execution_count": null,
   "metadata": {},
   "outputs": [],
   "source": []
  }
 ],
 "metadata": {
  "kernelspec": {
   "display_name": "Python 3",
   "language": "python",
   "name": "python3"
  },
  "language_info": {
   "codemirror_mode": {
    "name": "ipython",
    "version": 3
   },
   "file_extension": ".py",
   "mimetype": "text/x-python",
   "name": "python",
   "nbconvert_exporter": "python",
   "pygments_lexer": "ipython3",
   "version": "3.7.2"
  }
 },
 "nbformat": 4,
 "nbformat_minor": 2
}

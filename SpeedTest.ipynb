{
 "cells": [
  {
   "cell_type": "code",
   "execution_count": 46,
   "metadata": {},
   "outputs": [],
   "source": [
    "import torch\n",
    "import numpy as np\n",
    "import numba\n",
    "import torch\n",
    "import ewald_summation as es"
   ]
  },
  {
   "cell_type": "code",
   "execution_count": null,
   "metadata": {},
   "outputs": [],
   "source": [
    "%load_ext line_profiler"
   ]
  },
  {
   "cell_type": "code",
   "execution_count": 97,
   "metadata": {},
   "outputs": [],
   "source": [
    "configuration = np.random.uniform(0, 3.5, (1000, 3))\n",
    "sigma = np.array([1] * len(configuration))\n",
    "sigma_arr = 0.5 * (sigma[:, None] + sigma)\n",
    "epsilon = np.array([1] * len(configuration))\n",
    "epsilon_arr = np.sqrt(epsilon[:, None] * epsilon)\n",
    "cutoff_lj = 3.5\n",
    "switch_width_lj = 1"
   ]
  },
  {
   "cell_type": "code",
   "execution_count": 94,
   "metadata": {},
   "outputs": [],
   "source": [
    "def lj_potential_pairwise(distance, sigma_lj, epsilon_lj):\n",
    "    if(distance <= 0 or distance > cutoff_lj):\n",
    "        return 0.\n",
    "    else:\n",
    "        inv_dist = sigma_lj / distance\n",
    "        inv_dist2 = inv_dist * inv_dist\n",
    "        inv_dist4 = inv_dist2 * inv_dist2\n",
    "        inv_dist6 = inv_dist2 * inv_dist4\n",
    "        phi_LJ = 4. * epsilon_lj * inv_dist6 * (inv_dist6 - 1.)\n",
    "        if(distance <= cutoff_lj - switch_width_lj):\n",
    "            return phi_LJ\n",
    "        else:\n",
    "            t = (distance - cutoff_lj) / switch_width_lj\n",
    "            switch = t * t * (3. + 2. * t)\n",
    "            return phi_LJ * switch\n",
    "        \n",
    "def lj_potential_loops(x):\n",
    "    output = np.zeros(len(x))\n",
    "    for i in range(len(x)):\n",
    "        potential = 0\n",
    "        for j in range(i, len(x)):\n",
    "            sigma_lj = sigma_arr[i, j]\n",
    "            epsilon_lj = epsilon_arr[i, j]\n",
    "            distance = np.linalg.norm(x[i, :] - x[j, :])\n",
    "            potential += lj_potential_pairwise(distance,sigma_lj, epsilon_lj)\n",
    "        output[i] = potential\n",
    "    return output\n"
   ]
  },
  {
   "cell_type": "code",
   "execution_count": 95,
   "metadata": {},
   "outputs": [],
   "source": [
    "x = np.random.uniform(0, 4, (100, 3))\n",
    "np.testing.assert_allclose(np.sum(lj_potential_loops(x)), es.potentials.lj.lj_potential_total(x))"
   ]
  },
  {
   "cell_type": "code",
   "execution_count": 99,
   "metadata": {},
   "outputs": [],
   "source": [
    "%lprun -f lj_potential_loops lj_potential_loops(configuration)"
   ]
  },
  {
   "cell_type": "code",
   "execution_count": 100,
   "metadata": {},
   "outputs": [
    {
     "name": "stdout",
     "output_type": "stream",
     "text": [
      "3.37 s ± 50.4 ms per loop (mean ± std. dev. of 7 runs, 1 loop each)\n"
     ]
    }
   ],
   "source": [
    "timing_loops = %timeit np.sum(lj_potential_loops(configuration))"
   ]
  },
  {
   "cell_type": "code",
   "execution_count": 126,
   "metadata": {},
   "outputs": [],
   "source": [
    "def potential_along_axis(x):\n",
    "        # potenital w/o switch\n",
    "        if x[0] > 0 and x[0] <= cutoff_lj - switch_width_lj:\n",
    "            x[0] = 4 * x[2] * x[1]**6 * (x[1]**6 / x[0]**12 - 1 / x[0]**6)\n",
    "        # potential with switch\n",
    "        elif x[0] > cutoff_lj - switch_width_lj and x[0] <= cutoff_lj:\n",
    "            t = (x[0] - cutoff_lj * x[1]) / (cutoff_lj * x[1] - cutoff_lj - switch_width_lj * x[1])\n",
    "            switch = 2 * t ** 3 + 3 * t ** 2\n",
    "            x[0] = switch * (4 * x[2] * x[1]**6 * (x[1]**6 / x[0]**12 - 1 / x[0]**6))\n",
    "        # potential after cutoff\n",
    "        elif x[0] > cutoff_lj * x[1]:\n",
    "            x[0] = 0\n",
    "        return x[0]\n",
    "\n",
    "def lj_potential_np_along_axis(x, sigma_arr, epsilon_arr):\n",
    "    # initialize output as array with distances and corresponding sigma, epsilon along axis=2\n",
    "    output = np.zeros((x.shape[0], x.shape[0], 3))\n",
    "    output[:, :, 0] = np.linalg.norm(x[:, None, :] - x[None, :, :], axis=-1)\n",
    "    output[:, :, 1] = sigma_arr\n",
    "    output[:, :, 2] = epsilon_arr\n",
    "    # calculate potentials\n",
    "    output[:, :, 0] = np.apply_along_axis(potential_along_axis, 2, output)\n",
    "    output = np.sum(output[:, :, 0], axis=-1)\n",
    "    return output"
   ]
  },
  {
   "cell_type": "code",
   "execution_count": 127,
   "metadata": {},
   "outputs": [],
   "source": [
    "x = np.random.uniform(0, 4, (100, 3))\n",
    "sigma_temp = np.array([1] * len(x))\n",
    "sigma_arr_temp= 0.5 * (sigma_temp[:, None] + sigma_temp)\n",
    "epsilon_temp = np.array([1] * len(x))\n",
    "epsilon_arr_temp = np.sqrt(epsilon_temp[:, None] * epsilon_temp)\n",
    "\n",
    "np.testing.assert_allclose(0.5 * np.sum(lj_potential_np_along_axis(x, sigma_arr_temp, epsilon_arr_temp)), \n",
    "                           es.potentials.lj.lj_potential_total(x))"
   ]
  },
  {
   "cell_type": "code",
   "execution_count": 129,
   "metadata": {},
   "outputs": [],
   "source": [
    "%lprun -f lj_potential_np_along_axis lj_potential_np_along_axis(configuration, sigma_arr, epsilon_arr)"
   ]
  },
  {
   "cell_type": "code",
   "execution_count": 130,
   "metadata": {},
   "outputs": [
    {
     "name": "stdout",
     "output_type": "stream",
     "text": [
      "6.29 s ± 36.6 ms per loop (mean ± std. dev. of 7 runs, 1 loop each)\n"
     ]
    }
   ],
   "source": [
    "timings_np_apply_along_axis = %timeit lj_potential_np_along_axis(configuration, sigma_arr, epsilon_arr)"
   ]
  },
  {
   "cell_type": "code",
   "execution_count": null,
   "metadata": {},
   "outputs": [],
   "source": []
  }
 ],
 "metadata": {
  "kernelspec": {
   "display_name": "Python 3",
   "language": "python",
   "name": "python3"
  },
  "language_info": {
   "codemirror_mode": {
    "name": "ipython",
    "version": 3
   },
   "file_extension": ".py",
   "mimetype": "text/x-python",
   "name": "python",
   "nbconvert_exporter": "python",
   "pygments_lexer": "ipython3",
   "version": "3.7.2"
  }
 },
 "nbformat": 4,
 "nbformat_minor": 2
}

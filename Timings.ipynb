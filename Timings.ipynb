{
 "cells": [
  {
   "cell_type": "code",
   "execution_count": null,
   "metadata": {},
   "outputs": [],
   "source": [
    "import numpy as np\n",
    "import matplotlib.pyplot as plt"
   ]
  },
  {
   "cell_type": "code",
   "execution_count": null,
   "metadata": {},
   "outputs": [],
   "source": [
    "n = [729, 1331, 2197, 2744, 3375, 4913]\n",
    "t_f_cou_real = np.array([0.2144, 0.747077939, 1.94678395, 3.2928970729, 5.09034, 10.5517986])\n",
    "t_f_cou_rec = np.array([0.06038769485, 0.1302136, 0.1273522589, 0.15340592, 0.2219336755, 0.27830728])\n",
    "t_pot_cou_real = np.array([0.07464670715, 0.24683775765, 0.6809652, 1.2293052428, 1.9821880911, 3.917643652])\n",
    "t_pot_cou_rec = np.array([0.02514803895, 0.0457805813, 0.0539195559, 0.0616996296, 0.0817122243, 0.108406048])\n",
    "t_lj_pot = np.array([0.0733377723, 0.2400558991, 0.6563057543, 1.1735604472, 1.7978544028, 2.6668526])\n",
    "t_lj_force = np.array([0.2829931447, 0.966535227, 2.5827842429, 4.3608010842, 6.4726933654, 9.4490655])\n",
    "t_total_force = t_f_cou_real + t_f_cou_rec   + t_lj_force\n",
    "t_total_pot = t_pot_cou_real + t_pot_cou_rec + t_lj_pot"
   ]
  },
  {
   "cell_type": "code",
   "execution_count": null,
   "metadata": {},
   "outputs": [],
   "source": [
    "plt.plot(n, t_f_cou_real, label='force coulomb real')\n",
    "plt.plot(n, t_f_cou_rec, label='force coulomb reciprocal')\n",
    "plt.plot(n, t_pot_cou_real, label='potential coulomb real')\n",
    "plt.plot(n, t_pot_cou_rec, label='potential reciprocal')\n",
    "plt.plot(n, t_lj_pot, label='potential LJ')\n",
    "plt.plot(n, t_lj_force, label='force LJ')\n",
    "plt.legend()"
   ]
  },
  {
   "cell_type": "code",
   "execution_count": null,
   "metadata": {},
   "outputs": [],
   "source": [
    "plt.plot(n, t_total_force, label='force total')\n",
    "plt.plot(n, t_total_pot, label='pot total')\n",
    "plt.legend()"
   ]
  },
  {
   "cell_type": "code",
   "execution_count": null,
   "metadata": {},
   "outputs": [],
   "source": []
  }
 ],
 "metadata": {
  "kernelspec": {
   "display_name": "Python (test)",
   "language": "python",
   "name": "test"
  },
  "language_info": {
   "codemirror_mode": {
    "name": "ipython",
    "version": 3
   },
   "file_extension": ".py",
   "mimetype": "text/x-python",
   "name": "python",
   "nbconvert_exporter": "python",
   "pygments_lexer": "ipython3",
   "version": "3.7.2"
  }
 },
 "nbformat": 4,
 "nbformat_minor": 2
}
